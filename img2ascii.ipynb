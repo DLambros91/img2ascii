{
  "nbformat": 4,
  "nbformat_minor": 0,
  "metadata": {
    "colab": {
      "name": "img2ascii.ipynb",
      "provenance": [],
      "toc_visible": true
    },
    "kernelspec": {
      "name": "python3",
      "display_name": "Python 3"
    }
  },
  "cells": [
    {
      "cell_type": "markdown",
      "metadata": {
        "id": "0dn8j9HzGuLO",
        "colab_type": "text"
      },
      "source": [
        "# IMG2ASCII"
      ]
    },
    {
      "cell_type": "markdown",
      "metadata": {
        "id": "xO8s5atHGw8v",
        "colab_type": "text"
      },
      "source": [
        "## Import Libraries"
      ]
    },
    {
      "cell_type": "code",
      "metadata": {
        "id": "4ji_vE7NFNuE",
        "colab_type": "code",
        "colab": {}
      },
      "source": [
        "from PIL import Image\n",
        "import matplotlib.pyplot as plt\n",
        "import numpy as np"
      ],
      "execution_count": 12,
      "outputs": []
    },
    {
      "cell_type": "markdown",
      "metadata": {
        "id": "UnI8ql78G0be",
        "colab_type": "text"
      },
      "source": [
        "## Load and Display Image"
      ]
    },
    {
      "cell_type": "code",
      "metadata": {
        "id": "3qWNozeAF1V0",
        "colab_type": "code",
        "colab": {
          "base_uri": "https://localhost:8080/",
          "height": 118
        },
        "outputId": "064741a5-0fa2-44d6-96a2-0476210b735d"
      },
      "source": [
        "img = Image.open(\"awesome.jpeg\")\n",
        "print(\"Image Successfully Loaded!\")\n",
        "print(\"The image size is\", img.size[0], \"x\", img.size[1])\n",
        "print(\"Displaying image...\")\n",
        "img"
      ],
      "execution_count": 23,
      "outputs": [
        {
          "output_type": "stream",
          "text": [
            "Image Successfully Loaded!\n",
            "The image size is 50 x 53\n",
            "Displaying image...\n"
          ],
          "name": "stdout"
        },
        {
          "output_type": "execute_result",
          "data": {
            "image/png": "[encoded data removed]",
            "text/plain": [
              "<PIL.JpegImagePlugin.JpegImageFile image mode=RGB size=50x53 at 0x7F3BD55A2B00>"
            ]
          },
          "metadata": {
            "tags": []
          },
          "execution_count": 23
        }
      ]
    },
    {
      "cell_type": "markdown",
      "metadata": {
        "id": "OLePK8Qhndp7",
        "colab_type": "text"
      },
      "source": [
        "## Convert image to Pixel Array"
      ]
    },
    {
      "cell_type": "code",
      "metadata": {
        "id": "3NGQroY2qkJn",
        "colab_type": "code",
        "colab": {
          "base_uri": "https://localhost:8080/",
          "height": 50
        },
        "outputId": "16a71bdc-cc74-48d5-cf18-3af450add9f4"
      },
      "source": [
        "pixels = np.asarray(img)\n",
        "\n",
        "#pixels = pixels.reshape(img.size[0], img.size[1])\n",
        "print(\"Successfully Converted to Pixel Matrix\")\n",
        "print(\"Dimensions of Pixel Matrix\", pixels.shape[0], \"x\", pixels.shape[1], \"x\", pixels.shape[2])"
      ],
      "execution_count": 24,
      "outputs": [
        {
          "output_type": "stream",
          "text": [
            "Successfully Converted to Pixel Matrix\n",
            "Dimensions of Pixel Matrix 53 x 50 x 3\n"
          ],
          "name": "stdout"
        }
      ]
    },
    {
      "cell_type": "markdown",
      "metadata": {
        "id": "TzspZwjZCKB9",
        "colab_type": "text"
      },
      "source": [
        "## Convert RGB to Brightness \n",
        "Using the average of the RGB to represent the Brightness value\n",
        "$$Brightness = \\frac{R+G+B}{3}$$"
      ]
    },
    {
      "cell_type": "code",
      "metadata": {
        "id": "fY7_D8ldCp6v",
        "colab_type": "code",
        "colab": {
          "base_uri": "https://localhost:8080/",
          "height": 50
        },
        "outputId": "892a0bd5-f468-4fe6-eed4-e51948bf5830"
      },
      "source": [
        "brightness = []\n",
        "\n",
        "for i in range(pixels.shape[0]):\n",
        "  for j in range(pixels.shape[1]):\n",
        "    brightness.append(np.average(pixels[i][j]))\n",
        "\n",
        "brightness = np.reshape(brightness, (pixels.shape[0], pixels.shape[1]))\n",
        "\n",
        "print(\"Successfully Created Brightness Matrix\")\n",
        "print(\"Dimensions of Brightness Matrix are\", brightness.shape[0], \"x\",brightness.shape[1])"
      ],
      "execution_count": 25,
      "outputs": [
        {
          "output_type": "stream",
          "text": [
            "Successfully Created Brightness Matrix\n",
            "Dimensions of Brightness Matrix are 53 x 50\n"
          ],
          "name": "stdout"
        }
      ]
    },
    {
      "cell_type": "code",
      "metadata": {
        "id": "T2DkmIYWINq6",
        "colab_type": "code",
        "colab": {}
      },
      "source": [
        "labels = \"`^\\\",:;Il!i~+_-?][}{1)(|\\\\/tfjrxnuvczXYUJCLQ0OZmwqpdbkhao*#MW&8%B@$\""
      ],
      "execution_count": 5,
      "outputs": []
    },
    {
      "cell_type": "code",
      "metadata": {
        "id": "1Wj89guKJ22O",
        "colab_type": "code",
        "colab": {}
      },
      "source": [
        "label_spacing = 255/len(labels)\n",
        "\n",
        "ascii_art = []\n",
        "\n",
        "for i in range(brightness.shape[0]):\n",
        "  for j in range(brightness.shape[1]):\n",
        "    index = np.round(brightness[i][j]/label_spacing)\n",
        "    ascii_art.append(labels[int(index-1)])"
      ],
      "execution_count": 26,
      "outputs": []
    },
    {
      "cell_type": "code",
      "metadata": {
        "id": "yB_MYMdYMyAz",
        "colab_type": "code",
        "colab": {
          "base_uri": "https://localhost:8080/",
          "height": 895
        },
        "outputId": "349eaa2f-2c98-423a-838a-492affe8216e"
      },
      "source": [
        "arr = np.reshape(ascii_art, (brightness.shape[0], brightness.shape[1]))\n",
        "print(arr.shape)\n",
        "for i in range(arr.shape[0]):\n",
        "  print(np.array2string(arr[i], separator='', formatter={'str_kind': lambda x: x}))"
      ],
      "execution_count": 27,
      "outputs": [
        {
          "output_type": "stream",
          "text": [
            "(53, 50)\n",
            "[BBBBBBBBBBBBB%BBBBB%%%%%%%%%%%%BBBBB%BBB%BBBBBBBBB]\n",
            "[BBBBBBBBBBBBBBB%%%BB@@@@@@@@@@BB%%%BBBBBBBBBBBBBBB]\n",
            "[BBBBBBBBBB%BBB%%B@@B%W*akka*W%B@@BB%BB%BBBBBBBBBBB]\n",
            "[BBBBBBBBBBBB%%@@B#qY|````````|UpMB@@B%BBBBBBBBBBBB]\n",
            "[BBBBBBBBBBB%@@8bc````-|jrrf|-```$vb&@@%BBBBBBBBBBB]\n",
            "[BBBBBBBBB%B@%b/$`_uCZwppppppwZCu?``|d%@B%BBBBBBBBB]\n",
            "[BBBBBBBB%B@*v$`/UmpdppqqwwwqppddmCt`$no@@%BBBBBBBB]\n",
            "[BBBBBBBB@Bq$`)CppqwmwwwwwwwwwwmwqppL\\`$wB@%BBBBBBB]\n",
            "[BBBBBB%@%L$`cmdqmwwwqqqqqqqqqqwwmwqdwX`$J8@%BBBBBB]\n",
            "[BBBBB%B%X$-OkdppqwqqqwqqqqqqqqqqqqwmqdQ]$c8@%BBBBB]\n",
            "[BBBB%B%X$)wwvrcQqpwqqqwqqqqqqqqqqqqwmwdZ1$c%B%BBBB]\n",
            "[BBB%B@Q$)wU^1x(+xmpwwqqwwqwwwqqwqwqqqwmpm{$J@B%BBB]\n",
            "[BBB%@d`-Zz^qB@Bh^(qqwqqqwqqqqqqwwqqqqqwwpZ~$w$%BBB]\n",
            "[BBB@M$`QQ^a@$@$k1`zpwwqqqqqqqqqwwwwwwwqwmdL``*@%BB]\n",
            "[B%%@X`vp`O@@B$d$\"`-Zpwqqqqqqqwwwpppqwwqqwwdu`uB%%B]\n",
            "[B%Ba^[wziB@8B@Q`|:`UdwwqqqwqwwppwOOpdqmqqwww?`b@%%]\n",
            "[BBBx`Ud?Q$@@@$h$$$`cpwwqqqqwwpZr{][)vwqwqqwpJ`j%B%]\n",
            "[%@o$}pm\"a@B@@$@qnLjfpwwqqwwqdz^\\0pqU)/Zpwqwqp[$h$%]\n",
            "[%@C`zbL?@$$$@B@@B@L\\pwwqqwmdv`mB$@$$o`]mpwwwpY`U@%]\n",
            "[B8]`OdQ^ZMB$$$$@$$ujbwwqqmdC`k$$$@$8z~`fpwqwqm`-W@]\n",
            "[@a$/pwmj_-fCk&$@@8{XbmqqwppiL$$B@@$0$$+^Oqwwwpt$d$]\n",
            "[@O`XdmwqZUr1+}n0MZ_ZpwqqwdU_&$@@@@$J$-i`cpwqqpU`C@]\n",
            "[@u`0dmmwdbbq0c/[?^vpwwqwwb\\vB$@$@@$#i`^`tpwqqpO`rB]\n",
            "[%1`mpwddwmmwwqqmQYwqwqqwwd}q$@@@@$$@#maQ[pwqwpw:[&]\n",
            "[&`-qqqmmpqwwmZwqbdqwqqqwqqlO@$$$$@@B@$$w[pwqwqp?^M]\n",
            "[W`1pqpuIrX0qddpwmmwwwqqwqqj,/YpW@$$$@B@ctqwqqqq1$o]\n",
            "[#`(pqqZu``!(nJZqppqwwwwwqqwLn)+-tLa%$@@:Jqwqqqp|$h]\n",
            "[#`(dqwp0`}~,^^+|vLmpdppwwmwwwqOUr1+[xqO;qwwqwwp\\$h]\n",
            "[M`)pqwqU^/|)}+l\"^\"[jX0wppqwZZwpdpwQc/}^Ydmwqwqp)$a]\n",
            "[&`?pqwqU\"|}{)||([~I^`I{rUZpbdpwmwqwwwZQqqwqwwqq[^#]\n",
            "[%?;wpwpU\"|}{{{{1)()1_i:\"\"+\\vLwddpqmZmqpqwqqqwpw!-W]\n",
            "[Bj`OdwqC^|1{{{{}}}{1(|({_!```-/vLwddpqwwqqqwwpm`f%]\n",
            "[$C`Jdmw0\"1)}{{{{{{{{{{{1)()]+!,\",1xUZpqwwqqwwpC`U@]\n",
            "[@d`rdmwm!~(}{{{{{{{{{{{{}}{)(){_!:\"^^Qpwwqqwwpn`p$]\n",
            "[BW`imwmq|;|}{{{1{{{{1{{1{{{{{{1)))[?^Jdwwqqwqw~^#@]\n",
            "[%@c`Jqwpc^|}{{{{{{{1}}}{{{{1{{{{}1)|^JpwwqqqqC`uBB]\n",
            "[%$k`\\pwq0^[1{{{{{{}1(((((1{{1{{{}{11^Qpwwqqqp\\`p$%]\n",
            "[%B%)`Lpwq|\"\\}{{{{1|{+ii~_1({{{1{{{1-\"mpwqwwp0`1&@%]\n",
            "[B%@q$\\qwqC^1{{{{()+-uJLJu-+)1{{{{{(:(pqqqwwp\\$Z@%B]\n",
            "[BBB%t`Ypmq/^/[{)?_Uko###*bz+{){{{}|^YqwqwmpJ`|8B%B]\n",
            "[BBB@a$iOpwZ;!/1-}m###**####Q-}){]|:[qwwqwqm;$b$8BB]\n",
            "[BBBB@Q$|wqqL^](-mM*ooooooo*#L-}{|~^0pwwwqp($U@%BBB]\n",
            "[BBB%B%x`jqqqC^IZMooooo**ooo*ov-/I^Cpqqwqpf`t%B%BBB]\n",
            "[BBBB%@&1`jqpqL\"\\hM##ooo*o**#Wq~,-0pwwwppj`]W@%BBBB]\n",
            "[BB%BBB@M}`tmpqZ|^ud#WWWWWM#kU~\"vwdqwwdwt`+#@%BBBBB]\n",
            "[BBBBBB%@W\\`}LdpwL|,_tcYYctI^?cmpwwwpdL[$)M@%BBBBBB]\n",
            "[BBBBBBBB@8z``nmddpZJn/){1/c0pdqwmqdwu`$v&@%BBBBBBB]\n",
            "[BBBBBBB%%BBq`$iv0wqwwwwwwwwwwwqppOv~$`wBB%BBBBBBBB]\n",
            "[BBBBBBBBB%B@MY$$$xLwpdpppqppppwLn\"$$XM@BBBBBBBBBBB]\n",
            "[BBBBBBBB%B%%@@*U;$``1rzYJJUzr)``$`Yo@@%%BBBBBBBBBB]\n",
            "[BBBBBBBBBB%%%%@@Wqz[$`$`````$$?vqW@@B%BBBBBBBBBBBB]\n",
            "[BBBBBBBBBBBBBBBBB$@8#bmQCCQmd*8@$@%%BBBBBBBBBBBBBB]\n",
            "[BBBBBBBBBBBBBBBB%%%@@$$$@@$$$@BB%%%B%BBBBBBBBBBBBB]\n"
          ],
          "name": "stdout"
        }
      ]
    },
    {
      "cell_type": "code",
      "metadata": {
        "id": "E4LlauLLOqV3",
        "colab_type": "code",
        "colab": {}
      },
      "source": [
        "np.set_printoptions(threshold=np.inf)\n",
        "np.set_printoptions(linewidth=6000)"
      ],
      "execution_count": 9,
      "outputs": []
    }
  ]
}